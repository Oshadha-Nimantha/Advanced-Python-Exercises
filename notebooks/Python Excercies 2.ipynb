{
 "cells": [
  {
   "cell_type": "markdown",
   "metadata": {},
   "source": [
    "**Exercise 20**"
   ]
  },
  {
   "cell_type": "markdown",
   "metadata": {},
   "source": [
    "###### Let's consider vectors consisting of only ones and zeros. Let us also assume an additional convention for representing such a vector. For example, a vector:\n",
    "\n",
    "###### u = [0, 1, 1, 0, 1, 0, 1, 0]\n",
    "###### we will present as a sequence:\n",
    "###### '01101010'\n",
    "\n",
    "###### For the vectors so defined, we can determine the Hamming distance. The Hamming distance of vectors u and v is the number of elements where the vectors u and v are different.\n",
    "\n",
    "###### Example: The Hamming distance of the vectors '1100100', '1010000' is equal to 3.\n",
    "\n",
    "###### Implement a function called hamming_distance() that returns the Hamming distance of two vectors. To calculate the Hamming distance, the vectors must be of the same length. If the vectors are of different lengths raise the ValueError with the following message:\n",
    "\n",
    "###### 'Both vectors must be the same length.'\n",
    "\n",
    "###### Example:\n",
    "\n",
    "###### [IN]: hamming_distance('01101010', '11011011')\n",
    "###### [OUT]: 4\n",
    "\n",
    "###### Example:\n",
    "\n",
    "###### [IN]: hamming_distance('110', '10100')\n",
    "###### [OUT]: ValueError: Both vectors must be the same length.\n",
    "\n",
    "###### You just need to implement the hamming_distance() function. The tests run several test cases to validate the solution."
   ]
  },
  {
   "cell_type": "code",
   "execution_count": 1,
   "metadata": {},
   "outputs": [
    {
     "name": "stdout",
     "output_type": "stream",
     "text": [
      "4\n"
     ]
    }
   ],
   "source": [
    "def hamming_distance(vector1,vecter2):\n",
    "    if len(vector1) == len(vecter2): #check if the two vectors are the same length\n",
    "        return sum([1 for i in range(len(vector1)) if vector1[i] != vecter2[i]]) #return the sum of the number of differences between the two vectors\n",
    "        \n",
    "    else: \n",
    "        raise ValueError('Both vectors must be the same length.') #raise an error if the vectors are not the same length\n",
    "\n",
    "print(hamming_distance('01101010', '11011011'))\n"
   ]
  },
  {
   "cell_type": "markdown",
   "metadata": {},
   "source": [
    "**Exercise 21**"
   ]
  },
  {
   "cell_type": "markdown",
   "metadata": {},
   "source": [
    "###### Let's consider vectors consisting of only ones and zeros. Let us also assume an additional convention for representing such a vector. For example, a vector:\n",
    "\n",
    "###### u = [0, 1, 1, 0, 1, 0, 1, 0]\n",
    "\n",
    "###### we will present as a sequence:\n",
    "\n",
    "###### '01101010'\n",
    "\n",
    "###### For the vectors so defined, we can determine the Hamming distance. The Hamming distance of vectors u and v is the number of elements where the vectors u and v are different.\n",
    "\n",
    "###### Example: The Hamming distance of the vectors '1100100', '1010000' is equal to 3.\n",
    "\n",
    "###### A function called hamming_distance() is implemented that returns the Hamming distance of two vectors:\n",
    "\n",
    "###### def hamming_distance(u, v):\n",
    "######     if len(u) != len(v):\n",
    "######        raise ValueError('Both vectors must be the same length.')\n",
    "######    distance = 0\n",
    "######    for i in range(len(u)):\n",
    "######       if u[i] != v[i]:\n",
    "######           distance += 1\n",
    "######   return distance\n",
    "\n",
    "###### The weight of the vector u is the Hamming distance of this vector from the zero vector. So in the case of vector '1001001' its weight is equal to the Hamming distance of vector '1001001' from vector '0000000'.\n",
    "\n",
    "###### Implement a function called hamming_weight() that returns the weight of the vector. In the solution, you can use the hamming_distance() function. It is also worth paying attention to a slightly simpler implementation. The weight of a vector is equal to the number of ones in the vector.\n",
    "\n",
    "###### Example:\n",
    "###### [IN]: hamming_weight('110001010')\n",
    "###### [OUT]: 4\n",
    "\n",
    "###### Example:\n",
    "\n",
    "###### [IN]: hamming_weight('110111')\n",
    "###### [OUT]: 5\n",
    "\n",
    "###### You only need to implement the hamming_weight() function. The tests run several test cases to validate the solution."
   ]
  },
  {
   "cell_type": "code",
   "execution_count": 2,
   "metadata": {},
   "outputs": [
    {
     "name": "stdout",
     "output_type": "stream",
     "text": [
      "4\n"
     ]
    }
   ],
   "source": [
    "def hamming_weight(vector):\n",
    "    return sum(1 for bit in vector if bit == '1')\n",
    "\n",
    "print(hamming_weight('110001010'))"
   ]
  },
  {
   "cell_type": "markdown",
   "metadata": {},
   "source": [
    "**Exercise 22**"
   ]
  },
  {
   "cell_type": "markdown",
   "metadata": {},
   "source": [
    "###### Consider the popular Scrabble game. Scrabble is a word game in which players score points by placing tiles, each bearing a single letter, onto a game board divided into a 15×15 grid of squares. The tiles must form words that, in crossword fashion, read left to right in rows or downward in columns, and be included in a standard dictionary or lexicon.\n",
    "\n",
    "###### The combined words are scored, and the game is won by the player who in total (in all moves) scores more points than each of the opponents. The number of points is calculated based on the letters in each word. Each letter has a specific, fixed point value.\n",
    "\n",
    "###### Below are the scores for the English version:\n",
    "###### blank tile - 0 pt (usually two in a set)\n",
    "###### EAIONRTLSU - 1 pt\n",
    "###### DG - 2 pt\n",
    "###### BCMP - 3 pt\n",
    "###### FHVWY - 4 pt\n",
    "###### K - 5 pt\n",
    "###### JX - 8 pt\n",
    "###### QZ - 10 pt\n",
    "\n",
    "###### Implement a function called score() that returns a result for one word. We assume that the given word is grammatically correct. We can represent a blank tile for simplicity as a space character ' '.\n",
    "\n",
    "###### Tip: We can use the built-in collections module and the ChainMap class.\n",
    "\n",
    "###### Example:\n",
    "\n",
    "###### [IN]: score('python')\n",
    "###### [OUT]: 14\n",
    "\n",
    "###### Example:\n",
    "\n",
    "###### [IN]: score('programming')\n",
    "###### [OUT]: 19\n",
    "\n",
    "###### You just need to implement the score() function. The tests run several test cases to validate the solution."
   ]
  },
  {
   "cell_type": "code",
   "execution_count": 1,
   "metadata": {},
   "outputs": [
    {
     "name": "stdout",
     "output_type": "stream",
     "text": [
      "14\n"
     ]
    }
   ],
   "source": [
    "# create letters lists\n",
    "list1 = [l for l in 'EAIONRTLSU']\n",
    "list2 = [l for l in 'DG']\n",
    "list3 = [l for l in 'BCMP']\n",
    "list4 = [l for l in 'FHVWY ']\n",
    "list5 = ['K']\n",
    "list6 = [l for l in 'JX']\n",
    "list7 = [l for l in 'QZ']\n",
    "\n",
    "def score(word):\n",
    "    total = 0\n",
    "    # iterate through each letter in the word\n",
    "    for letter in word: \n",
    "        letter = letter.upper()\n",
    "        # check which list the letter is in and add the corresponding value to the total\n",
    "        if letter in list1:\n",
    "            total += 1 \n",
    "        elif letter in list2:\n",
    "            total += 2 \n",
    "        elif letter in list3:\n",
    "            total += 3\n",
    "        elif letter in list4:\n",
    "            total += 4\n",
    "        elif letter in list5:\n",
    "            total += 5\n",
    "        elif letter in list6:\n",
    "            total += 8\n",
    "        elif letter in list7:\n",
    "            total += 10\n",
    "        else:\n",
    "            pass\n",
    "    return total\n",
    "    \n",
    "print(score('python'))"
   ]
  },
  {
   "cell_type": "code",
   "execution_count": 3,
   "metadata": {},
   "outputs": [
    {
     "name": "stdout",
     "output_type": "stream",
     "text": [
      "14\n"
     ]
    }
   ],
   "source": [
    "from collections import ChainMap\n",
    " \n",
    "english_scoreboard = {\n",
    "    ' ': 0,\n",
    "    'EAIONRTLSU': 1,\n",
    "    'DG': 2,\n",
    "    'BCMP': 3,\n",
    "    'FHVWY': 4,\n",
    "    'K': 5,\n",
    "    'JX': 8,\n",
    "    'QZ': 10,\n",
    "}\n",
    "  \n",
    "def score(word):\n",
    "    scores = ChainMap(\n",
    "        *[\n",
    "            dict.fromkeys(letter, score) # create a dictionary with the letter as the key and the score as the value\n",
    "            for letter, score in english_scoreboard.items() # iterate through the english_scoreboard dictionary\n",
    "        ]\n",
    "    )\n",
    "    return sum([scores[letter.upper()] for letter in word]) # return the sum of the scores for each letter in the word\n",
    "\n",
    "print(score('python'))"
   ]
  },
  {
   "cell_type": "markdown",
   "metadata": {},
   "source": [
    "**Exercise 23**"
   ]
  },
  {
   "cell_type": "markdown",
   "metadata": {},
   "source": [
    "###### Consider the problem below. We have given a sequence of characters, and we want to extract from it all the substrings of length n in the order they appear in the sequence.\n",
    "\n",
    "###### For example, from a sequence of characters 'python' we can extract a 3-digit series:\n",
    "\n",
    "###### ['pyt', 'yth', 'tho', 'hon']\n",
    "\n",
    "###### or 4-digit:\n",
    "\n",
    "###### ['pyth', 'ytho', 'thon']\n",
    "\n",
    "###### Implement a function called get_slices() that takes two arguments:\n",
    "\n",
    "###### sequence - the sequence of characters to be processed\n",
    "\n",
    "###### length - length of the substrings to be extracted from the sequence\n",
    "\n",
    "###### If the value of the length argument is less than 1, raise the ValueError with the message:\n",
    "\n",
    "###### 'The length cannot be less than 1.'\n",
    "\n",
    "###### If the value of the length argument is greater than the length of the given sequence, raise the ValueError with the message:\n",
    "\n",
    "###### 'The length cannot be greater than sequence.'\n",
    "\n",
    "###### Example:\n",
    "\n",
    "###### [IN]: get_slices('esmartdata', 5)\n",
    "###### [OUT]: ['esmar', 'smart', 'martd', 'artda', 'rtdat', 'tdata']\n",
    "\n",
    "###### Example:\n",
    "\n",
    "###### [IN]: get_slices('654646849173', 6)\n",
    "###### [OUT]: ['654646', '546468', '464684', '646849', '468491', '684917', '849173']\n",
    "\n",
    "###### You just need to implement the get_slices() function. The tests run several test cases to validate the solution."
   ]
  },
  {
   "cell_type": "code",
   "execution_count": 4,
   "metadata": {},
   "outputs": [
    {
     "name": "stdout",
     "output_type": "stream",
     "text": [
      "['esmar', 'smart', 'martd', 'artda', 'rtdat', 'tdata']\n"
     ]
    }
   ],
   "source": [
    "def get_slices(sequence, length): \n",
    "    if length < 1:\n",
    "        raise ValueError('The length cannot be less than 1.') #raise an error if the length is less than 1\n",
    "    elif length > len(sequence):\n",
    "        raise ValueError('The length cannot be greater than sequence.') #raise an error if the length is greater than the sequence\n",
    "    else: #if the length is valid\n",
    "        substrings = [] #create an empty list to store the substrings\n",
    "        for i in range(len(sequence)-length+1): #iterate through the sequence\n",
    "            substrings.append(sequence[i:i+length]) #append the substring to the substrings list\n",
    "            \n",
    "        return substrings\n",
    "        \n",
    "print(get_slices('esmartdata', 5))"
   ]
  },
  {
   "cell_type": "markdown",
   "metadata": {},
   "source": [
    "**Exercise 24**"
   ]
  },
  {
   "cell_type": "markdown",
   "metadata": {},
   "source": [
    "###### Below is an example of a 3x3 square matrix of numbers in spiral order:\n",
    "\n",
    "###### [1, 2, 3]\n",
    "###### [8, 9, 4]\n",
    "###### [7, 6, 5]\n",
    "\n",
    "###### An example of a 4x4 square matrix of numbers in spiral order:\n",
    "\n",
    "###### [ 1,  2,  3, 4]\n",
    "###### [12, 13, 14, 5]\n",
    "###### [11, 16, 15, 6]\n",
    "###### [10,  9,  8, 7]\n",
    "\n",
    "###### We move clockwise, starting with the number 1 and increasing by 1.\n",
    "\n",
    "###### Implement a function called spiral_matrix() that takes the size of the matrix as an argument and generates the matrix in spiral order with the given size. Present the solution in the form of nested lists.\n",
    "\n",
    "###### Tip: You can use the itertools built-in module and the cycle class in your solution.\n",
    "\n",
    "###### Example:\n",
    "\n",
    "###### [IN]: spiral_matrix(1)\n",
    "###### [OUT]: [[1]]\n",
    "\n",
    "###### Example:\n",
    "\n",
    "###### [IN]: spiral_matrix(2)\n",
    "###### [OUT]: [[1, 2], [4, 3]]\n",
    "\n",
    "###### Example:\n",
    "\n",
    "###### [IN]: spiral_matrix(3)\n",
    "###### [OUT]: [[1, 2, 3], [8, 9, 4], [7, 6, 5]]\n",
    "\n",
    "###### You just need to implement the spiral_matrix() function. The tests run several test cases to validate the solution."
   ]
  },
  {
   "cell_type": "code",
   "execution_count": null,
   "metadata": {},
   "outputs": [],
   "source": [
    "from itertools import cycle\n",
    "\n",
    "def spiral_matrix(size):\n",
    "    \"\"\"\n",
    "    Generates a spiral matrix of the given size.\n",
    "\n",
    "    Args:\n",
    "        size (int): The size of the matrix.\n",
    "\n",
    "    Returns:\n",
    "        list: The generated spiral matrix.\n",
    "\n",
    "    Raises:\n",
    "        ValueError: If the size is less than 1.\n",
    "    \"\"\"\n",
    "    if size < 1:\n",
    "        raise ValueError('The size cannot be less than 1.')\n",
    "    \n",
    "    matrix = [[0] * size for _ in range(size)]  # Initialize the matrix with zeros\n",
    "    directions = cycle([(0, 1), (1, 0), (0, -1), (-1, 0)])  # right, down, left, up\n",
    "    current_direction = next(directions)\n",
    "    row, col = 0, 0\n",
    "    \n",
    "    for num in range(1, size**2 + 1):\n",
    "        matrix[row][col] = num  # Assign the current number to the matrix\n",
    "        \n",
    "        next_row = row + current_direction[0]  # Calculate the next row\n",
    "        next_col = col + current_direction[1]  # Calculate the next column\n",
    "        \n",
    "        # Check if the next position is out of bounds or already filled\n",
    "        if (\n",
    "            next_row < 0 or next_row >= size or\n",
    "            next_col < 0 or next_col >= size or\n",
    "            matrix[next_row][next_col] != 0\n",
    "        ):\n",
    "            current_direction = next(directions)  # Change the direction\n",
    "            row += current_direction[0]  # Update the row\n",
    "            col += current_direction[1]  # Update the column\n",
    "        else:\n",
    "            row = next_row  # Move to the next row\n",
    "            col = next_col  # Move to the next column\n",
    "    \n",
    "    return matrix"
   ]
  },
  {
   "cell_type": "markdown",
   "metadata": {},
   "source": [
    "**Exercise 25**"
   ]
  },
  {
   "cell_type": "markdown",
   "metadata": {},
   "source": [
    "###### A file called hashtags.txt containing hashtags related to sport is attached to the exercise:\n",
    "\n",
    "######  #sport #fitness #training #motivation #gym #sports #workout #fit #football #love #instagood #fitnessmotivation #lifestyle #running #like #bodybuilding #healthy #instagram #health #soccer #follow #crossfit #photography #bhfyp #run#nature #fun #healthylifestyle #muscle #bhfyp #fashion #fitfam #gymlife #photooftheday #team #personaltrainer #nike #picoftheday #exercise #mma #sportlife #boxing #athlete #bike #basketball #happy #deporte #gymmotivation #strong #cycling #yoga #style #ufc #sportmotivation #fitnessgirl #calcio #instafit\n",
    "\n",
    "###### Implement a function called clean_hashtags() that loads the included hashtags.txt file and does some cleanup. Extract hashtags up to 4 characters long. The '#' sign is not included in the length of the hashtag. For example, the hashtag '#gym' has a length of 3.\n",
    "\n",
    "###### Also take care to remove duplicates, if any. Then return the alphabetically sorted hashtags as a list.\n",
    "\n",
    "###### In response, call clean_hashtags() function and print the result to the console.\n",
    "\n",
    "###### Expected result:\n",
    "\n",
    "###### ['#bike', '#fit', '#fun', '#gym', '#like', '#love', '#mma', '#nike', '#run', '#team', '#ufc', '#yoga']"
   ]
  },
  {
   "cell_type": "code",
   "execution_count": 25,
   "metadata": {},
   "outputs": [
    {
     "name": "stdout",
     "output_type": "stream",
     "text": [
      "['#bike', '#fit', '#fun', '#gym', '#like', '#love', '#mma', '#nike', '#run', '#team', '#ufc', '#yoga']\n"
     ]
    }
   ],
   "source": [
    "def clean_hashtags():\n",
    "    with open('hashtags.txt', 'r') as file: #open the file\n",
    "        content = file.read() #read the file\n",
    "    hashtags = content.split() #split the content into a list of hashtags\n",
    "    short_hashtags = [\n",
    "        hashtag for hashtag in hashtags if len(hashtag) <= 5 #iterate through the hashtags and filter out the hashtags that are longer than 5 characters\n",
    "    ]\n",
    "    result = sorted(set(short_hashtags)) #sort the hashtags and remove duplicates\n",
    "    return result\n",
    " \n",
    " \n",
    "print(clean_hashtags())"
   ]
  },
  {
   "cell_type": "markdown",
   "metadata": {},
   "source": [
    "**Exercise 26**"
   ]
  },
  {
   "cell_type": "markdown",
   "metadata": {},
   "source": [
    "###### A file called hashtags.txt containing hashtags related to sport is attached to the exercise:\n",
    "\n",
    "###### #sport #fitness #training #motivation #gym #sports #workout #fit #football #love #instagood #fitnessmotivation #lifestyle #running #like #bodybuilding #healthy #instagram #health #soccer #follow #crossfit #photography #bhfyp #run #nature #fun #healthylifestyle #muscle #bhfyp #fashion #fitfam #gymlife #photooftheday #team #personaltrainer #nike #picoftheday #exercise #mma #sportlife #boxing #athlete #bike #basketball #happy #deporte #gymmotivation #strong #cycling #yoga #style #ufc #sportmotivation #fitnessgirl #calcio #instafit\n",
    "\n",
    "###### Implement a function called clean_hashtags() that takes three arguments:\n",
    "\n",
    "###### input_file - filename containing hashtags\n",
    "\n",
    "###### output_file - filename to which the hashtags should be saved\n",
    "\n",
    "###### length - the maximum length of the hashtag\n",
    "\n",
    "###### The '#' sign is not included in the length of the hashtag. For example, the hashtag '#gym' has a length of 3.\n",
    "\n",
    "###### The clean_hashtags() function loads a file called input_file and does some hashtag cleanup. The function extracts hashtags up to length characters long and also removes duplicates. It then saves the alphabetically sorted hashtags to a file called output_file, saving each hashtag in a new line.\n",
    "\n",
    "###### Example:\n",
    "\n",
    "###### [IN]: clean_hashtags('hashtags.txt', 'clean.txt', 5)\n",
    "\n",
    "###### The contents of the clean.txt file after calling the function:\n",
    "\n",
    "###### #bhfyp #bike #fit #fun #gym #happy #like #love #mma #nike #run #sport #style #team #ufc #yoga\n",
    "\n",
    "###### You just need to implement the clean_hashtags() function. The tests run several test cases to validate the solution.\n",
    "\n"
   ]
  },
  {
   "cell_type": "code",
   "execution_count": 1,
   "metadata": {},
   "outputs": [],
   "source": [
    "def clean_hashtags(input_file,output_file,length):\n",
    "    with open (input_file,'r') as file: #open the file\n",
    "        content = file.read() #read the file\n",
    "        \n",
    "    hashtags = content.split() #split the content into a list of hashtags\n",
    "    short_hashtags = [x for x in hashtags if len(x) <= length+1] #iterate through the hashtags and filter out the hashtags that are longer than the specified length\n",
    "    result = sorted(set(short_hashtags)) #sort the hashtags and remove duplicates\n",
    "    \n",
    "    with open(output_file,'w') as file: #open the output file\n",
    "        for hashtag in result: #iterate through the hashtags\n",
    "            file.write(hashtag + '\\n') #write the hashtag to the output file\n",
    "\n",
    "clean_hashtags('hashtags.txt','short_hashtags.txt',5)"
   ]
  },
  {
   "cell_type": "markdown",
   "metadata": {},
   "source": [
    "**Exercise 27**"
   ]
  },
  {
   "cell_type": "markdown",
   "metadata": {},
   "source": [
    "###### The exercise includes a file called binary.txt containing numbers in binary system (each number is on a separate line.):\n",
    "\n",
    "###### 0111111000100101\n",
    "###### 1010111100000010\n",
    "###### 0010110000011010\n",
    "###### 1111000101111100\n",
    "###### 0100101101000110\n",
    "###### 0001001000011110\n",
    "###### 0000011011010101\n",
    "###### 0010100001101000\n",
    "###### 0100001100001101\n",
    "###### 0001111111000001\n",
    "###### 0111101000000100\n",
    "###### 1010100010001011\n",
    "###### 0010001000011000\n",
    "###### 0100010011110110\n",
    "###### 0010010011111011\n",
    "\n",
    "###### Implement a function called binary_to_int() that reads the included binary.txt file and converts the given numbers to decimal system. Return the numbers as a list.\n",
    "\n",
    "###### Example:\n",
    "\n",
    "###### [IN]: binary_to_int()\n",
    "###### [OUT]: [32293, 44802, 11290, 61820, 19270, 4638, 1749, 10344, 17165, 8129, 31236, 43147, 8728, 17654, 9467]\n",
    "\n",
    "###### You just need to implement the binary_to_int() function. The tests run several test cases to validate the solution."
   ]
  },
  {
   "cell_type": "code",
   "execution_count": 14,
   "metadata": {},
   "outputs": [
    {
     "name": "stdout",
     "output_type": "stream",
     "text": [
      "[32293, 44802, 11290, 61820, 19270, 4638, 1749, 10344, 17165, 8129, 31236, 43147, 8728, 17654, 9467]\n"
     ]
    }
   ],
   "source": [
    "def binary_to_int():\n",
    "    with open('binary.txt','r') as file: #open the file\n",
    "        content = file.read()  #read the file\n",
    "    str_list = content.split() #split the content into a list of binary strings\n",
    "    int_list = [(int(x, 2)) for x in str_list] #convert the binary strings to integers\n",
    "    return int_list #return the list of integers    \n",
    "\n",
    "print(binary_to_int())"
   ]
  },
  {
   "cell_type": "markdown",
   "metadata": {},
   "source": [
    "**Exercise 28**"
   ]
  },
  {
   "cell_type": "markdown",
   "metadata": {},
   "source": [
    "###### The exercise includes a file users.json containing data about users of a certain application.\n",
    "\n",
    "###### Implement a function called filter_active_users(), which loads the attached users.json file and extracts all active users (is_active -> true):\n",
    "\n",
    "###### \"is_active\": true\n",
    "\n",
    "###### Then dump active users to a new active_users.json file (set indent level to 2).\n",
    "\n",
    "###### In the solution, use the built-in json package.\n",
    "\n",
    "###### Example:\n",
    "\n",
    "\n",
    "\n",
    "###### [IN]: filter_active_users()\n",
    "\n",
    "\n",
    "###### The content of the active_users.json file after calling the function:\n",
    "\n",
    "###### [{\"id\": 2,\"first_name\": \"Lukas\",\"last_name\": \"Cottrill\",\"email\": \"lcottrill1@linkedin.com\",\"gender\": null, \"is_active\": true,},{\"id\": 3,\"first_name\": \"Heath\", \"last_name\": \"Rourke\",\"email\": \"hrourke2@t.co\",\"gender\": \"Genderfluid\",\"is_active\": true,},{\"id\": 4,\"first_name\": \"Lucie\",\"last_name\": \"Brunetti\",\"email\": \"lbrunetti3@bbb.org\",\"gender\": \"Non-binary\",\"is_active\": true,},{\"id\": 5,\"first_name\": \"Minette\",\"last_name\": \"Graysmark\",\"email\": \"mgraysmark4@fotki.com\",\"gender\": null,\"is_active\": true,}...]\n",
    "\n",
    "###### You only need to implement the filter_active_users() function. The tests run several test cases to validate the solution."
   ]
  },
  {
   "cell_type": "code",
   "execution_count": 16,
   "metadata": {},
   "outputs": [],
   "source": [
    "import json\n",
    "\n",
    "def filter_active_users(): \n",
    "    with open('users.json', 'r') as file: #open the file\n",
    "        users = json.load(file) #load the json data\n",
    "    \n",
    "    active_users = [user for user in users if user['is_active']] #filter out the active users\n",
    "    \n",
    "    with open('active_users.json', 'w') as file: #open the output file\n",
    "        json.dump(active_users, file, indent=2) #write the active users to the output file\n",
    "\n",
    "filter_active_users()"
   ]
  },
  {
   "cell_type": "markdown",
   "metadata": {},
   "source": [
    "**Exercise 29**"
   ]
  },
  {
   "cell_type": "markdown",
   "metadata": {},
   "source": [
    "###### The exercise includes a file users.json containing data about users of a certain application.\n",
    "\n",
    "###### Implement a function called json_to_csv() which loads the attached users.json file, converts the file contents to the csv (comma-separated values) format, and saves it to the users.csv file.\n",
    "\n",
    "###### In the solution, use the built-in json package.\n",
    "\n",
    "###### Example:\n",
    "\n",
    "###### [IN]: json_to_csv()\n",
    "\n",
    "###### The contents of the users.csv file after calling the function:\n",
    "\n",
    "###### id,first_name,last_name,email,gender,is_active\n",
    "###### 1,Huntington,McComiskie,hmccomiskie0@admin.ch,None,False\n",
    "###### 2,Lukas,Cottrill,lcottrill1@linkedin.com,None,True\n",
    "###### 3,Heath,Rourke,hrourke2@t.co,Genderfluid,True\n",
    "###### 4,Lucie,Brunetti,lbrunetti3@bbb.org,Non-binary,True\n",
    "###### 5,Minette,Graysmark,mgraysmark4@fotki.com,None,True\n",
    "###### 6,Stormi,Thresher,sthresher5@umn.edu,Non-binary,True\n",
    "###### 7,Rochella,Berry,rberry6@moonfruit.com,Female,False\n",
    "###### 8,Lock,Pablo,lpablo7@networkadvertising.org,Genderqueer,False\n",
    "###### 9,Anton,Hugnin,ahugnin8@flickr.com,Genderqueer,True\n",
    "###### 10,Stephi,Jacqueme,sjacqueme9@exblog.jp,Male,False\n",
    "\n",
    "###### You just need to implement the json_to_csv() function. The tests run several test cases to validate the solution."
   ]
  },
  {
   "cell_type": "code",
   "execution_count": 19,
   "metadata": {},
   "outputs": [],
   "source": [
    "import json\n",
    " \n",
    "def json_to_csv():\n",
    "    # Extract data\n",
    "    with open('users.json', 'r') as file:\n",
    "        content = json.load(file)\n",
    " \n",
    "    # Transform data\n",
    "    headers = ','.join(content[0].keys())\n",
    "    users = [user.values() for user in content]\n",
    "    rows = [','.join([str(item) for item in user]) for user in users]\n",
    " \n",
    "    # Load data\n",
    "    with open('users.csv', 'w') as file:\n",
    "        file.write(headers + '\\n')\n",
    "        for row in rows:\n",
    "            file.write(row + '\\n')\n",
    "\n",
    "json_to_csv()"
   ]
  }
 ],
 "metadata": {
  "kernelspec": {
   "display_name": "Python 3",
   "language": "python",
   "name": "python3"
  },
  "language_info": {
   "codemirror_mode": {
    "name": "ipython",
    "version": 3
   },
   "file_extension": ".py",
   "mimetype": "text/x-python",
   "name": "python",
   "nbconvert_exporter": "python",
   "pygments_lexer": "ipython3",
   "version": "3.10.11"
  }
 },
 "nbformat": 4,
 "nbformat_minor": 2
}
