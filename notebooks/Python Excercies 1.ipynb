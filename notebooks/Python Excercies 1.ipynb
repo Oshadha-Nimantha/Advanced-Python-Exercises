{
 "cells": [
  {
   "cell_type": "markdown",
   "metadata": {},
   "source": [
    "**Exercise 0**"
   ]
  },
  {
   "cell_type": "markdown",
   "metadata": {},
   "source": [
    "###### Print the Python version to the console."
   ]
  },
  {
   "cell_type": "code",
   "execution_count": 3,
   "metadata": {},
   "outputs": [
    {
     "name": "stdout",
     "output_type": "stream",
     "text": [
      "3.10.11\n"
     ]
    }
   ],
   "source": [
    "import sys\n",
    "\n",
    "print(sys.version.split()[0]) # print the python version"
   ]
  },
  {
   "cell_type": "markdown",
   "metadata": {},
   "source": [
    "**Exercise 1**"
   ]
  },
  {
   "cell_type": "markdown",
   "metadata": {},
   "source": [
    "###### All natural numbers divisible by 5 or 7 less than 20 are: [0, 5, 7, 10, 14, 15]. The sum of these numbers is: 51. In this exercise, we treat zero as a natural number.\n",
    "###### Find the sum of all numbers that are divisible by 5 or 7 less than 100.\n",
    "###### Present the solution in the form of a function called calculate(). In response, call calculate() function and print the result to the console."
   ]
  },
  {
   "cell_type": "code",
   "execution_count": 4,
   "metadata": {},
   "outputs": [
    {
     "name": "stdout",
     "output_type": "stream",
     "text": [
      "1580\n"
     ]
    }
   ],
   "source": [
    "def calculate(n): # n is the number of numbers to be checked\n",
    "    num = [] \n",
    "    # loop through the numbers from 0 to n\n",
    "    for i in range(n):\n",
    "        if i%5 == 0: # check if the number is divisible by 5\n",
    "            num.append(i)\n",
    "        elif i%7 == 0: # check if the number is divisible by 7\n",
    "            num.append(i)\n",
    "        else:\n",
    "            pass        \n",
    "    return sum(num) # return the sum of the numbers that are divisible by 5 and 7\n",
    "\n",
    "# method 2\n",
    "def calc(n):\n",
    "    return(sum([x for x in range(n) if x%5 == 0 or x%7 == 0]))\n",
    "    \n",
    "print(calc(100))\n"
   ]
  },
  {
   "cell_type": "markdown",
   "metadata": {},
   "source": [
    "**Exercise 2**"
   ]
  },
  {
   "cell_type": "markdown",
   "metadata": {},
   "source": [
    "###### Consider the Fibonacci sequence. It is a sequence of natural numbers defined recursively as follows:\n",
    "###### - the first element of the sequence is 0\n",
    "###### - the second element of the sequence is 1\n",
    "###### - each next element of the sequence is the sum of the previous two elements\n",
    "###### - The beginning of the Fibonacci sequence:\n",
    "\n",
    "###### 0, 1, 1, 2, 3, 5, 8, 13, 21, 34, 55, ... \n",
    "\n",
    "###### Find the sum of all even elements of the Fibonacci sequence with values less than 1,000,000 (1 million).\n",
    "\n",
    "###### Present the solution in the form of a function called calculate(). In response, call calculate() function and print the result to the console.\n",
    "\n"
   ]
  },
  {
   "cell_type": "code",
   "execution_count": 5,
   "metadata": {},
   "outputs": [
    {
     "name": "stdout",
     "output_type": "stream",
     "text": [
      "1089154\n"
     ]
    }
   ],
   "source": [
    "def calculate(): \n",
    "    total = 0\n",
    "    a = 0\n",
    "    b = 1\n",
    "    while a < 1000000: # check if the number is less than 1000000\n",
    "        if a % 2 == 0:  # check if the number is even\n",
    "            total += a \n",
    "        a, b = b, a + b # calculate the next number\n",
    "    return total\n",
    " \n",
    " \n",
    "print(calculate())"
   ]
  },
  {
   "cell_type": "markdown",
   "metadata": {},
   "source": [
    "**Exercise 3**"
   ]
  },
  {
   "cell_type": "markdown",
   "metadata": {},
   "source": [
    "###### In number theory, integer factorization is the decomposition of a composite number into a product of smaller integers. If these factors are further restricted to prime numbers, the process is called prime factorization.\n",
    "\n",
    "###### Examples of prime numbers: 2, 3, 5, 7, 11, 13, 17, 19, ...\n",
    "\n",
    "###### Reminder: The number 1 is not a prime number.\n",
    "\n",
    "###### A number that is greater than 1 and is not a prime is called a composite number.\n",
    "\n",
    "###### Examples of composite numbers: 4, 6, 8, 9, 10, 12, 14, 15, 16, ...\n",
    "\n",
    "\n",
    "###### We can break down a composite number into prime factors. For example:\n",
    "\n",
    "###### 15 = 3 * 5\n",
    "\n",
    "###### 36 = 2 * 2 * 3 * 3\n",
    "\n",
    "###### 48 = 2 * 2 * 2 * 2 * 3\n",
    "\n",
    "###### Implement a function that takes a natural number as an argument and returns a list containing the prime factorization of that number. Present the solution in the form of a function called calculate().\n",
    "\n",
    "\n",
    "###### Example:\n",
    "\n",
    "\n",
    "###### [IN]: calculate(48)\n",
    "###### [OUT]: [2, 2, 2, 2, 3]\n",
    "\n",
    "\n",
    "###### You just need to implement the function. The tests run several test cases to validate the solution."
   ]
  },
  {
   "cell_type": "code",
   "execution_count": 6,
   "metadata": {},
   "outputs": [
    {
     "name": "stdout",
     "output_type": "stream",
     "text": [
      "[2, 2, 2, 2, 3]\n"
     ]
    }
   ],
   "source": [
    "def calculate(n): # n is the number of numbers to be checked\n",
    "    prime_factors = [] \n",
    "    i = 2\n",
    "    while i <= n: # loop through the numbers from 0 to n\n",
    "        if n % i == 0: # check if the number is divisible by i\n",
    "            prime_factors.append(i) \n",
    "            n = n // i # divide n by i\n",
    "        else: \n",
    "            i += 1 # increment i\n",
    "    return prime_factors\n",
    "\n",
    "print(calculate(48))"
   ]
  },
  {
   "cell_type": "markdown",
   "metadata": {},
   "source": [
    "**Exercise 4**"
   ]
  },
  {
   "cell_type": "markdown",
   "metadata": {},
   "source": [
    "###### In number theory, integer factorization is the decomposition of a composite number into a product of smaller integers. If these factors are further restricted to prime numbers, the process is called prime factorization.\n",
    "\n",
    "###### Examples of prime numbers: 2, 3, 5, 7, 11, 13, 17, 19, ...\n",
    "\n",
    "###### Reminder: The number 1 is not a prime number.\n",
    "\n",
    "###### A number that is greater than 1 and is not a prime is called a composite number.\n",
    "\n",
    "###### Examples of composite numbers: 4, 6, 8, 9, 10, 12, 14, 15, 16, ...\n",
    "\n",
    "###### We can break down a composite number into prime factors. For example:\n",
    "\n",
    "###### 15 = 3 * 5\n",
    "\n",
    "###### 36 = 2 * 2 * 3 * 3\n",
    "\n",
    "###### The largest prime factor for 15 is 5, and for 36 is 3.\n",
    "\n",
    "###### Using the previous exercise, implement a function that takes a natural number as an argument and returns the greatest prime factor of that number. Present the solution in the form of a function called calculate().\n",
    "\n",
    "###### Example:\n",
    "\n",
    "###### [IN]: calculate(13195)\n",
    "###### [OUT]: 29\n",
    "\n",
    "###### You just need to implement the function. The tests run several test cases to validate the solution."
   ]
  },
  {
   "cell_type": "code",
   "execution_count": 7,
   "metadata": {},
   "outputs": [
    {
     "name": "stdout",
     "output_type": "stream",
     "text": [
      "29\n"
     ]
    }
   ],
   "source": [
    "def calculate(n): # n is the number of numbers to be checked\n",
    "    prime_factors = [] \n",
    "    i = 2\n",
    "    while i <= n: # loop through the numbers from 0 to n\n",
    "        if n % i == 0: # check if the number is divisible by i\n",
    "            prime_factors.append(i) \n",
    "            n = n // i # divide n by i\n",
    "        else: \n",
    "            i += 1 # increment i\n",
    "    return prime_factors[-1] # return the maximum prime factor\n",
    "\n",
    "print(calculate(13195))"
   ]
  },
  {
   "cell_type": "markdown",
   "metadata": {},
   "source": [
    "**Exercise 5**"
   ]
  },
  {
   "cell_type": "markdown",
   "metadata": {},
   "source": [
    "###### Consider the palindromic numbers. A palindromic or symmetric number is a number that does not change when you write its digits in reverse order.\n",
    "\n",
    "###### Some examples of palindromic numbers:\n",
    "\n",
    "###### 363, 2882, 29492\n",
    "\n",
    "###### Implement a function that returns the number of all three-digit palindromic numbers.\n",
    "\n",
    "###### Present the solution in the form of a function called calculate(). In response, call calculate() function and print the result to the console."
   ]
  },
  {
   "cell_type": "code",
   "execution_count": 8,
   "metadata": {},
   "outputs": [
    {
     "name": "stdout",
     "output_type": "stream",
     "text": [
      "90\n"
     ]
    }
   ],
   "source": [
    "def calculate():\n",
    "    total = 0 # initialize the total to 0\n",
    "    for i in range(100, 1000): # loop through the numbers from 100 to 999\n",
    "        if str(i) == str(i)[::-1]: # check if the number is a palindrome\n",
    "            total += 1 # increment the total by 1\n",
    "    return total # return the total\n",
    "\n",
    "print(calculate())\n",
    "                    "
   ]
  },
  {
   "cell_type": "markdown",
   "metadata": {},
   "source": [
    "**Exercise 6**"
   ]
  },
  {
   "cell_type": "markdown",
   "metadata": {},
   "source": [
    "###### Consider the palindromic numbers. A palindromic or symmetric number is a number that does not change when you write its digits in reverse order.\n",
    "\n",
    "###### Some examples of palindromic numbers:\n",
    "\n",
    "###### 363, 2882,29492\n",
    "\n",
    "###### Implement a function that returns the largest palindromic number resulting from the product of two-digit numbers.\n",
    "\n",
    "###### Present the solution in the form of a function called calculate(). In response, call calculate() function and print the result to the console."
   ]
  },
  {
   "cell_type": "code",
   "execution_count": 9,
   "metadata": {},
   "outputs": [
    {
     "name": "stdout",
     "output_type": "stream",
     "text": [
      "9009\n"
     ]
    }
   ],
   "source": [
    "def calculate():\n",
    "    for i in range(99, 9, -1): # loop through the numbers from 99 to 10\n",
    "        for j in range(99, 9, -1): # loop through the numbers from 99 to 10\n",
    "            if str(i*j) == str(i*j)[::-1]: # check if the product of the numbers is a palindrome\n",
    "                return i*j # return the product\n",
    "\n",
    "print(calculate())"
   ]
  },
  {
   "cell_type": "markdown",
   "metadata": {},
   "source": [
    "**Exercise 7**"
   ]
  },
  {
   "cell_type": "markdown",
   "metadata": {},
   "source": [
    "###### Greatest Common Divisor (GCD) of two integers - this is the largest natural number that divides both of these numbers without a remainder.\n",
    "###### For example, for numbers 32 and 48, the greatest common divisor is 16, which we can write GCD(32, 48) = 16.\n",
    "###### Implement a function called greatest_common_divisor() that determines the greatest common divisor of two numbers.\n",
    "###### Example:\n",
    "###### [IN]: greatest_common_divisor(32, 48)\n",
    "###### [OUT]: 16\n",
    "###### You just need to implement the function. The  tests run several test cases to validate the solution."
   ]
  },
  {
   "cell_type": "code",
   "execution_count": 10,
   "metadata": {},
   "outputs": [
    {
     "name": "stdout",
     "output_type": "stream",
     "text": [
      "16\n",
      "16\n"
     ]
    }
   ],
   "source": [
    "def greatest_common_divisor(n ,m): # n and m are the numbers to be checked\n",
    "    Divisors = []\n",
    "    for i in range(2,min(n,m)+1):   # loop through the numbers from 2 to the minimum of n and m\n",
    "        if n%i == 0 and m%i ==0:    # check if the numbers are divisible by i\n",
    "            Divisors.append(i)      # append i to the list of divisors            \n",
    "    return max(Divisors)\n",
    "\n",
    "print(greatest_common_divisor(32, 48))\n",
    "\n",
    "\"\"\"\n",
    "#taking user inputs as n, m\n",
    "def greatest_common_divisor(n, m):\n",
    "    return max([i for i in range(2, min(n, m)+1) if n%i == 0 and m%i == 0])\n",
    "\n",
    "n, m = input().split()\n",
    "print(greatest_common_divisor(int(n), int(m)))\n",
    "\"\"\"\n",
    "\n",
    "#method 2\n",
    "def GCD(a, b):\n",
    "    while b:\n",
    "        a, b = b, a % b\n",
    "    return a\n",
    "\n",
    "print(GCD(32, 48))\n",
    "    \n"
   ]
  },
  {
   "cell_type": "markdown",
   "metadata": {},
   "source": [
    "**Exercise 8**"
   ]
  },
  {
   "cell_type": "markdown",
   "metadata": {},
   "source": [
    "###### A prime number is a natural number greater than 1 that is not a product of two smaller natural numbers.\n",
    "###### Examples of prime numbers: 2, 3, 5, 7, 11, 13, 17, 19, ...\n",
    "###### Implement a function called is_prime() that takes a natural number as an argument and checks if it is a prime number. In the case of a prime number, the function returns True, otherwise False.\n",
    "###### Example:\n",
    "###### [IN]: is_prime(11)\n",
    "###### [OUT]: True\n",
    "###### You just need to implement the function. The  tests run several test cases to validate the solution."
   ]
  },
  {
   "cell_type": "code",
   "execution_count": 11,
   "metadata": {},
   "outputs": [
    {
     "name": "stdout",
     "output_type": "stream",
     "text": [
      "True\n"
     ]
    }
   ],
   "source": [
    "def is_prime(n):\n",
    "    i = 2\n",
    "    if n < 2: \n",
    "        return False # check if the number is less than 2\n",
    "    while i < n:\n",
    "        if n%i == 0: # check if the number is divisible by i\n",
    "            return False    # return False if the number is not prime\n",
    "        i += 1    \n",
    "    else:\n",
    "        return True # return True if the number is prime\n",
    "    \n",
    "print(is_prime(11))"
   ]
  },
  {
   "cell_type": "markdown",
   "metadata": {},
   "source": [
    "**Exercises 9**"
   ]
  },
  {
   "cell_type": "markdown",
   "metadata": {},
   "source": [
    "###### A prime number is a natural number greater than 1 that is not a product of two smaller natural numbers.\n",
    "###### Examples of prime numbers: 2, 3, 5, 7, 11, 13, 17, 19, ...\n",
    "###### The prime number in position one is 2. The prime number in position two is 3. The prime number in position three is 5. Implement a function that returns a prime number at position 100.\n",
    "###### Present the solution in the form of a function called calculate(). In response, call calculate() function and print the result to the console."
   ]
  },
  {
   "cell_type": "code",
   "execution_count": 12,
   "metadata": {},
   "outputs": [
    {
     "name": "stdout",
     "output_type": "stream",
     "text": [
      "541\n"
     ]
    }
   ],
   "source": [
    "def calculate():\n",
    "    primes = [] # initialize the list of prime numbers\n",
    "    i = 0\n",
    "    while len(primes) < 100: # loop through the numbers until get 100 prime numbers\n",
    "        if is_prime(i) == True: # check if the number is prime\n",
    "            primes.append(i) # append the number to the list of prime numbers if it is prime\n",
    "        else:\n",
    "            pass    # do nothing if the number is not prime\n",
    "        i += 1\n",
    "    return primes[-1] # return the last prime number\n",
    "\n",
    "print(calculate())"
   ]
  },
  {
   "cell_type": "markdown",
   "metadata": {},
   "source": [
    "**Exercise 10**"
   ]
  },
  {
   "cell_type": "markdown",
   "metadata": {},
   "source": [
    "###### Consider the palindromic numbers. A palindromic or symmetric number is a number that does not change when you write its digits in reverse order.\n",
    "###### Some examples of palindromic numbers:363,2882,29492\n",
    "\n",
    "###### Implement a function called is_palindrome() that checks if the passed number is palindromic decimal and binary.\n",
    "\n",
    "###### For example, the number 99 is a palindromic number and its binary notation 1100011 is also a palindrome. When these conditions are met, the function returns True, otherwise False.\n",
    "\n",
    "###### Example:\n",
    "###### [IN]: is_palindrome(99)\n",
    "###### [OUT]: True\n",
    "\n",
    "###### You just need to implement the function. The  tests run several test cases to validate the solution."
   ]
  },
  {
   "cell_type": "code",
   "execution_count": 13,
   "metadata": {},
   "outputs": [
    {
     "name": "stdout",
     "output_type": "stream",
     "text": [
      "False\n"
     ]
    }
   ],
   "source": [
    "def is_palindrome(n):\n",
    "    binary_num = str(bin(n))[2:] # convert the number to binary\n",
    "    if str(n) == str(n)[::-1] and binary_num == binary_num[::-1]: # check if the number and its binary are palindromes\n",
    "        return True\n",
    "    else:\n",
    "        return False\n",
    "    \n",
    "print(is_palindrome(101))"
   ]
  },
  {
   "cell_type": "markdown",
   "metadata": {},
   "source": [
    "**Exercise 11**"
   ]
  },
  {
   "cell_type": "markdown",
   "metadata": {},
   "source": [
    "###### Consider the palindromic numbers. A palindromic or symmetric number is a number that does not change when you write its digits in reverse order.\n",
    "\n",
    "###### Some examples of palindromic numbers:363, 2882, 29492\n",
    "\n",
    "###### A function called is_palindrome() is implemented that checks if the number is palindromic in decimal and binary notation.\n",
    "\n",
    "###### Implement a function called calculate() that returns all three-digit palindromic numbers in both decimal and binary notation. In response, call calculate() function and print the result to the console."
   ]
  },
  {
   "cell_type": "code",
   "execution_count": 14,
   "metadata": {},
   "outputs": [
    {
     "name": "stdout",
     "output_type": "stream",
     "text": [
      "[313, 585, 717]\n"
     ]
    }
   ],
   "source": [
    "'''\n",
    "def calculate():\n",
    "    palindromes = []\n",
    "    for i in range(100, 1000): # loop through the numbers from 100 to 999\n",
    "        if is_palindrome(i): # check if the number is a palindrome\n",
    "            palindromes.append(i)\n",
    "        else:\n",
    "            pass\n",
    "    return palindromes\n",
    "'''\n",
    "def calculate():\n",
    "    return [i for i in range(100, 1000) if is_palindrome(i)]\n",
    "        \n",
    "print(calculate())"
   ]
  },
  {
   "cell_type": "markdown",
   "metadata": {},
   "source": [
    "**Exercise 12**"
   ]
  },
  {
   "cell_type": "markdown",
   "metadata": {},
   "source": [
    "###### Consider a simple number compression algorithm that works as follows:\n",
    "###### 111155522500 -> [('1', 4), ('5', 3), ('2', 2), ('5', 1), ('0', 2)]\n",
    "###### The algorithm goes from left to right through each digit and returns a list of two-element tuples. Each tuple consists of a digit and the number of repetitions of a given digit until the next, different digit in the number is encountered.\n",
    "\n",
    "###### Implement a function called compress() that compresses number as described above.\n",
    "###### Examples:\n",
    "\n",
    "###### [IN]: compress(111)\n",
    "###### [OUT]: [('1', 3)]\n",
    "\n",
    "###### [IN]: compress(1000000)\n",
    "###### [OUT]: [('1', 1), ('0', 6)]\n",
    "\n",
    "###### [IN]: compress(10005000)\n",
    "###### [OUT]: [('1', 1), ('0', 3), ('5', 1), ('0', 3)]\n",
    "\n",
    "###### Tip: You can use the itertools built-in module and the groupby class in your solution.\n",
    "###### You just need to implement the function. The  tests run several test cases to validate the solution."
   ]
  },
  {
   "cell_type": "code",
   "execution_count": 19,
   "metadata": {},
   "outputs": [
    {
     "name": "stdout",
     "output_type": "stream",
     "text": [
      "[('1', 1), ('2', 2), ('3', 3), ('4', 4)]\n"
     ]
    }
   ],
   "source": [
    "from itertools import groupby # import the groupby function from the itertools module\n",
    "\n",
    "def compress(number):\n",
    "    compressed = []\n",
    "    for digit, group in groupby(str(number)): # group the digits in the number\n",
    "        count = len(list(group))    # count the number of digits in the group\n",
    "        compressed.append((digit, count)) # append the digit and its count to the list of compressed numbers\n",
    "    return compressed\n",
    "\n",
    "print(compress(1223334444))"
   ]
  },
  {
   "cell_type": "markdown",
   "metadata": {},
   "source": [
    "**Exercise 13**"
   ]
  },
  {
   "cell_type": "markdown",
   "metadata": {},
   "source": [
    "###### Consider a simple number compression algorithm that works as follows:\n",
    "\n",
    "###### 111155522500 -> '14_53_22_51_02'\n",
    "\n",
    "###### The algorithm goes from left to right through the number and returns an object of type str. Each encountered digit is stored along with the number of times that digit repeats until another digit is encountered in the number. Each such pair is separated by the '_' character.\n",
    "\n",
    "###### Implement a function called compress() that compresses number as described above.\n",
    "\n",
    "###### Examples:\n",
    "\n",
    "###### [IN]: compress(100000)\n",
    "###### [OUT]: '11_05'\n",
    "\n",
    "###### [IN]: compress(9993330)\n",
    "###### [OUT]: '93_33_01'\n",
    "\n",
    "###### [IN]: compress(6540000)\n",
    "###### [OUT]: '61_51_41_04'\n",
    "\n",
    "###### Tip: You can use the itertools built-in module and the groupby class in your solution.\n",
    "\n",
    "###### You just need to implement the function. The  tests run several test cases to validate the solution."
   ]
  },
  {
   "cell_type": "code",
   "execution_count": 12,
   "metadata": {},
   "outputs": [
    {
     "name": "stdout",
     "output_type": "stream",
     "text": [
      "14_53_22_51_02\n",
      "14_53_22_51_02\n"
     ]
    }
   ],
   "source": [
    "from itertools import groupby\n",
    "\n",
    "def compress(n):\n",
    "    compressed = ''\n",
    "    for digit, group in groupby(str(n)): # group the digits in the number\n",
    "        count = len(list(group))   # count the number of digits in the group\n",
    "        compressed += digit + str(count) + '_'  # append the digit and its count to the compressed string\n",
    "        \n",
    "    return compressed[:-1] # return the compressed string\n",
    "\n",
    "print(compress(111155522500))\n",
    " \n",
    "#method 2\n",
    "def compress(number):\n",
    "    result = [''.join((key, str(len(list(group))))) for key, group in groupby(str(number))]\n",
    "    return '_'.join(result)\n",
    "\n",
    "print(compress(111155522500))\n"
   ]
  },
  {
   "cell_type": "markdown",
   "metadata": {},
   "source": [
    "**Exercise 14**"
   ]
  },
  {
   "cell_type": "markdown",
   "metadata": {},
   "source": [
    "###### Consider a simple number compression algorithm that works as follows:\n",
    "\n",
    "###### 111155522500 -> '1....5...2..5.0..'\n",
    "\n",
    "###### The algorithm goes from left to right through the number and returns an object of str type. Each encountered digit is stored along with the number of dots - the number of times the given digit repeats until it encounters the next, different digit in the number.\n",
    "\n",
    "###### Implement a function called compress() that compresses number as described above.\n",
    "\n",
    "###### Examples:\n",
    "\n",
    "###### [IN]: compress(1000040000)\n",
    "###### [OUT]: '1.0....4.0....'\n",
    "\n",
    "###### [IN]: compress(20000000)\n",
    "###### [OUT]: '2.0.......'\n",
    "\n",
    "###### [IN]: compress(123456)\n",
    "###### [OUT]: '1.2.3.4.5.6.'\n",
    "\n",
    "###### Tip: You can use the itertools built-in module and the groupby class in your solution.\n",
    "\n",
    "###### You just need to implement the function. The  tests run several test cases to validate the solution."
   ]
  },
  {
   "cell_type": "code",
   "execution_count": 13,
   "metadata": {},
   "outputs": [
    {
     "name": "stdout",
     "output_type": "stream",
     "text": [
      "1....5...2..5.0..\n"
     ]
    }
   ],
   "source": [
    "from itertools import groupby\n",
    "\n",
    "def compress(number):\n",
    "    compressed = ''\n",
    "    for digit, group in groupby(str(number)): # group the digits in the number\n",
    "        count = '.'*len(list(group)) # count the number of digits in the group\n",
    "        compressed += digit + count\n",
    "        \n",
    "    return compressed\n",
    "    \n",
    "print(compress(111155522500))"
   ]
  },
  {
   "cell_type": "markdown",
   "metadata": {},
   "source": [
    "**Exercise 15**"
   ]
  },
  {
   "cell_type": "markdown",
   "metadata": {},
   "source": [
    "###### Consider a simple number compression algorithm that works as follows:\n",
    "\n",
    "###### 111155522500 -> '14_53_22_51_02'\n",
    "\n",
    "###### The algorithm goes from left to right through the number and returns an object of str type. Each encountered digit is stored along with the number of times that digit repeats until another digit is encountered in the number. Each such pair is separated by the '_' character.\n",
    "\n",
    "###### A function called compress() is implemented that compresses a number as described above:\n",
    "###### from itertools import groupby\n",
    " \n",
    "###### def compress(number):\n",
    "######     result = []\n",
    "######     for key, group in groupby(str(number)):\n",
    "######         result.append((key, str(len(list(group)))))\n",
    "######     result = [''.join(item) for item in result]\n",
    "######     return '_'.join(result)\n",
    "\n",
    "###### Implement a function called decompress() that decompresses the expression to a number.\n",
    "\n",
    "###### Examples:\n",
    "\n",
    "###### [IN]: decompress('14_53_22_51_02')\n",
    "###### [OUT]: 111155522500\n",
    "\n",
    "###### [IN]: decompress('11_03_51_03')\n",
    "###### [OUT]: 10005000\n",
    "\n",
    "###### You just need to implement the function. The  tests run several test cases to validate the solution."
   ]
  },
  {
   "cell_type": "code",
   "execution_count": 2,
   "metadata": {},
   "outputs": [
    {
     "name": "stdout",
     "output_type": "stream",
     "text": [
      "111155522500\n"
     ]
    }
   ],
   "source": [
    "from itertools import groupby\n",
    "\n",
    "\n",
    "def compress(number):\n",
    "    result = []\n",
    "    for key, group in groupby(str(number)):\n",
    "        result.append((key, str(len(list(group)))))\n",
    "    result = [''.join(item) for item in result]\n",
    "    return '_'.join(result)\n",
    "\n",
    "def decompress(compressed):\n",
    "    result = []\n",
    "    for item in compressed.split('_'): # split the compressed string by '_'\n",
    "        result.append(item[0]*int(item[1:])) # append the digit and its count to the list of decompressed numbers\n",
    "    return int(''.join(result))\n",
    "\n",
    "print(decompress(compress(111155522500)))"
   ]
  },
  {
   "cell_type": "markdown",
   "metadata": {},
   "source": [
    "**Exercise 16**"
   ]
  },
  {
   "cell_type": "markdown",
   "metadata": {},
   "source": [
    "###### Consider the problem below. We have an application in which at some point we get a matrix in the form of a string (an object of the str type). For example, the following string:\n",
    "\n",
    "###### string = \"\"\"4 2 7\n",
    "###### 1 5 4\n",
    "###### 2 6 8\"\"\"\n",
    "\n",
    "###### represents a 3x3 matrix. Each row of the matrix is stored on a separate line. Each element of a row is separated from another element by a space.\n",
    "\n",
    "###### It's hard to work with these matrices and perform some additional operations. We will transform such a matrix into nested lists:\n",
    "\n",
    "###### [[4, 2, 7], [1, 5, 4], [2, 6, 8]]\n",
    "\n",
    "###### Implement a class named Matrix that takes the matrix as a string in the __init__() method and sets the value of the instance attribute called matrix as nested lists.\n",
    "\n",
    "###### Examples:\n",
    "\n",
    "###### [IN]: m = Matrix('3 4\\n5 6')\n",
    "###### [IN]: m.matrix\n",
    "###### [OUT]: [[3, 4], [5, 6]]\n",
    " \n",
    "###### [IN]: m = Matrix('3 4\\n5 6\\n7 8')\n",
    "###### [IN]: m.matrix\n",
    "###### [OUT]: [[3, 4], [5, 6], [7, 8]]\n",
    "###### You just need to implement the class. The tests run several test cases to validate the solution."
   ]
  },
  {
   "cell_type": "code",
   "execution_count": 3,
   "metadata": {},
   "outputs": [
    {
     "name": "stdout",
     "output_type": "stream",
     "text": [
      "[[3, 4], [5, 6]]\n",
      "[[3, 4], [5, 6], [7, 8]]\n"
     ]
    }
   ],
   "source": [
    "class Matrix:\n",
    "    def __init__(self, matrix_string):\n",
    "        rows = matrix_string.split('\\n')  # split the string into rows\n",
    "        self.matrix = [[int(num) for num in row.split()] for row in rows]  # convert each element to integer and create nested lists\n",
    "\n",
    "m = Matrix('3 4\\n5 6')\n",
    "print(m.matrix)\n",
    "\n",
    "m = Matrix('3 4\\n5 6\\n7 8')\n",
    "print(m.matrix)\n"
   ]
  },
  {
   "cell_type": "markdown",
   "metadata": {},
   "source": [
    "**Exercise 17**"
   ]
  },
  {
   "cell_type": "markdown",
   "metadata": {},
   "source": [
    "###### Consider the problem below. We have an application in which at some point we get a matrix in the form of a string (an object of the str type). For example, the following string:\n",
    "\n",
    "###### string = \"\"\"4 2 7\n",
    "###### 1 5 4\n",
    "###### 2 6 8\"\"\"\n",
    "\n",
    "###### represents a 3x3 matrix. Each row of the matrix is stored on a separate line. Each element of a row is separated from another element by a space.\n",
    "\n",
    "###### It's hard to work with these matrices and perform some additional operations. We will transform such a matrix into nested lists:\n",
    "\n",
    "###### [[4, 2, 7], [1, 5, 4], [2, 6, 8]]\n",
    "\n",
    "###### Part of a class named Matrix is implemented:\n",
    "\n",
    "###### class Matrix:\n",
    "######     \"\"\"Simple Matrix class.\"\"\"\n",
    " \n",
    "######     def __init__(self, string):\n",
    "######         self.matrix = [[int(i) for i in row.split()]for row in string.splitlines()]\n",
    "\n",
    "###### Add an implementation of the __repr__() method to the Matrix class that is a formal representation of a Matrix object.\n",
    "\n",
    "###### Example:\n",
    "\n",
    "###### [IN]: m1 = Matrix('4 5\\n8 6')\n",
    "###### [IN]: m1.__repr__()\n",
    "###### '4 5\\n8 6'\n",
    "\n",
    "###### Example:\n",
    "\n",
    "###### [IN]: m1 = Matrix('4 5\\n8 6')\n",
    "###### [IN]: print(m1.__repr__())\n",
    "###### 4 5\n",
    "###### 8 6\n",
    "\n",
    "###### You only need to implement the __repr__() method. The tests run several test cases to validate the solution."
   ]
  },
  {
   "cell_type": "code",
   "execution_count": 4,
   "metadata": {},
   "outputs": [
    {
     "name": "stdout",
     "output_type": "stream",
     "text": [
      "3 4\n",
      "5 6\n",
      "7 8\n"
     ]
    }
   ],
   "source": [
    "class Matrix:\n",
    "    \"\"\"Simple Matrix class.\"\"\"\n",
    "\n",
    "    def __init__(self, string):\n",
    "        self.matrix = [\n",
    "            [int(i) for i in row.split()]\n",
    "            for row in string.splitlines()\n",
    "        ]\n",
    "\n",
    "    def __repr__(self):\n",
    "        return '\\n'.join([' '.join(map(str, row)) for row in self.matrix]) # convert the matrix to string\n",
    "    \n",
    "m1 = Matrix('3 4\\n5 6\\n7 8')\n",
    "print(m1.__repr__())\n"
   ]
  },
  {
   "cell_type": "markdown",
   "metadata": {},
   "source": [
    "**Exercise 18**"
   ]
  },
  {
   "cell_type": "markdown",
   "metadata": {},
   "source": [
    "###### Consider the problem below. We have an application in which at some point we get a matrix in the form of a string (an object of the str type). For example, the following string:\n",
    "\n",
    "###### string = \"\"\"4 2 7\n",
    "###### 1 5 4\n",
    "###### 2 6 8\"\"\"\n",
    "\n",
    "###### represents a 3x3 matrix. Each row of the matrix is stored on a separate line. Each element of a row is separated from another element by a space.\n",
    "\n",
    "###### It's hard to work with these matrices and perform some additional operations. We will transform such a matrix into nested lists:\n",
    "\n",
    "###### [[4, 2, 7], [1, 5, 4], [2, 6, 8]]\n",
    "###### Part of a class named Matrix is implemented:\n",
    "###### class Matrix:\n",
    "######    \"\"\"Simple Matrix class.\"\"\"\n",
    " \n",
    "######     def __init__(self, string):\n",
    "######         self.matrix = [[int(i) for i in row.split()]for row in string.splitlines()]\n",
    " \n",
    "######     def __repr__(self):\n",
    "######        return '\\n'.join([(' '.join([str(i) for i in row]))for row in self.matrix])\n",
    "\n",
    "###### Add an implementation of the row() method to the Matrix class that takes the index as an argument and returns the corresponding row of the matrix.\n",
    "\n",
    "###### Example:\n",
    "\n",
    "###### [IN]: m = Matrix('3 4\\n5 6\\n7 8')\n",
    "###### [IN]: m.row(0)\n",
    "###### [OUT]: [3, 4]\n",
    "\n",
    "###### Example:\n",
    "\n",
    "###### [IN]: m = Matrix('3 4\\n5 6\\n7 8')\n",
    "###### [IN]: m.row(2)\n",
    "###### [OUT]: [7, 8]\n",
    "\n",
    "###### You only need to implement the row() method. The tests run several test cases to validate the solution."
   ]
  },
  {
   "cell_type": "code",
   "execution_count": 5,
   "metadata": {},
   "outputs": [
    {
     "name": "stdout",
     "output_type": "stream",
     "text": [
      "[3, 4]\n"
     ]
    }
   ],
   "source": [
    "class Matrix:\n",
    "    \"\"\"Simple Matrix class.\"\"\"\n",
    "\n",
    "    def __init__(self, string):\n",
    "        self.matrix = [[int(i) for i in row.split()] for row in string.splitlines()]\n",
    "\n",
    "    def __repr__(self):\n",
    "        return '\\n'.join([(' '.join([str(i) for i in row])) for row in self.matrix])\n",
    "        \n",
    "    def row(self, index):\n",
    "        return self.matrix[index] # return the row at the given index\n",
    "        \n",
    "m = Matrix('3 4\\n5 6\\n7 8')\n",
    "print(m.row(0))"
   ]
  },
  {
   "cell_type": "markdown",
   "metadata": {},
   "source": [
    "**Exercise 19**"
   ]
  },
  {
   "cell_type": "markdown",
   "metadata": {},
   "source": [
    "###### Consider the problem below. We have an application in which at some point we get a matrix in the form of a string (an object of the str type). For example, the following string:\n",
    "\n",
    "###### string = \"\"\"4 2 7\n",
    "###### 1 5 4\n",
    "###### 2 6 8\"\"\"\n",
    "\n",
    "\n",
    "###### represents a 3x3 matrix. Each row of the matrix is stored on a separate line. Each element of a row is separated from another element by a space.\n",
    "\n",
    "###### It's hard to work with these matrices and perform some additional operations. We will transform such a matrix into nested lists:\n",
    "\n",
    "###### [[4, 2, 7], [1, 5, 4], [2, 6, 8]]\n",
    "###### Part of a class named Matrix is implemented:\n",
    "###### class Matrix:\n",
    "######    \"\"\"Simple Matrix class.\"\"\"\n",
    " \n",
    "######     def __init__(self, string):\n",
    "######         self.matrix = [[int(i) for i in row.split()]for row in string.splitlines()]\n",
    " \n",
    "######     def __repr__(self):\n",
    "######        return '\\n'.join([(' '.join([str(i) for i in row]))for row in self.matrix])\n",
    "######   def row(self, index):\n",
    "######         return self.matrix[index]\n",
    "\n",
    "###### Add an implementation of the column() method to the Matrix class that takes the index as an argument and returns the corresponding column of the matrix.\n",
    "\n",
    "###### An example of calling the Matrix.column() method:\n",
    "\n",
    "###### [IN]: m = Matrix('3 4\\n5 6')\n",
    "###### [IN]: m.column(0)\n",
    "###### [OUT]: [3, 5]\n",
    "\n",
    "###### An example of calling the Matrix.column() method:\n",
    "\n",
    "###### [IN]: m = Matrix('3 4\\n5 6\\n7 8')\n",
    "###### [IN]: m.column(1)\n",
    "###### [OUT]: [4, 6, 8]\n",
    "\n",
    "###### You only need to implement the column() method. The tests run several test cases to validate the solution."
   ]
  },
  {
   "cell_type": "code",
   "execution_count": 6,
   "metadata": {},
   "outputs": [
    {
     "name": "stdout",
     "output_type": "stream",
     "text": [
      "[4, 6, 8]\n"
     ]
    }
   ],
   "source": [
    "class Matrix:\n",
    "    \"\"\"Simple Matrix class.\"\"\"\n",
    "\n",
    "    def __init__(self, string):\n",
    "        self.matrix = [[int(i) for i in row.split()] for row in string.splitlines()]\n",
    "\n",
    "    def __repr__(self):\n",
    "        return '\\n'.join([(' '.join([str(i) for i in row])) for row in self.matrix])\n",
    "\n",
    "    def row(self, index):\n",
    "        return self.matrix[index]\n",
    "        \n",
    "    def column(self, index):\n",
    "        return [col[index] for col in self.matrix] # return the column at the given index\n",
    "        \n",
    "m = Matrix('3 4\\n5 6\\n7 8')\n",
    "print(m.column(1))"
   ]
  }
 ],
 "metadata": {
  "kernelspec": {
   "display_name": "Python 3",
   "language": "python",
   "name": "python3"
  },
  "language_info": {
   "codemirror_mode": {
    "name": "ipython",
    "version": 3
   },
   "file_extension": ".py",
   "mimetype": "text/x-python",
   "name": "python",
   "nbconvert_exporter": "python",
   "pygments_lexer": "ipython3",
   "version": "3.10.11"
  }
 },
 "nbformat": 4,
 "nbformat_minor": 2
}
